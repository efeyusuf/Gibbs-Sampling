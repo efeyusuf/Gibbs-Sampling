{
  "nbformat": 4,
  "nbformat_minor": 0,
  "metadata": {
    "colab": {
      "provenance": [],
      "collapsed_sections": []
    },
    "kernelspec": {
      "name": "python3",
      "display_name": "Python 3"
    },
    "language_info": {
      "name": "python"
    },
    "accelerator": "GPU",
    "gpuClass": "standard"
  },
  "cells": [
    {
      "cell_type": "code",
      "execution_count": 2,
      "metadata": {
        "id": "gJ0xc5gtyVGb"
      },
      "outputs": [],
      "source": [
        "import numpy as np\n",
        "import pandas as pd\n",
        "import matplotlib.pyplot as plt\n",
        "import tensorflow as tf \n",
        "from sklearn.decomposition import PCA\n",
        "import seaborn as sns\n",
        "from tensorflow import keras\n",
        "from keras.utils import np_utils\n",
        "from sklearn import preprocessing\n",
        "from sklearn.preprocessing import OneHotEncoder"
      ]
    },
    {
      "cell_type": "code",
      "source": [
        "(x_train, y_train), (x_test, y_test) = tf.keras.datasets.cifar10.load_data()\n",
        "assert x_train.shape == (50000, 32, 32, 3)\n",
        "assert x_test.shape == (10000, 32, 32, 3)\n",
        "assert y_train.shape == (50000, 1)\n",
        "assert y_test.shape == (10000, 1)"
      ],
      "metadata": {
        "id": "_86JxKi5zi38",
        "colab": {
          "base_uri": "https://localhost:8080/"
        },
        "outputId": "8895e513-b82d-477b-c3ca-788c2723e6dd"
      },
      "execution_count": null,
      "outputs": [
        {
          "output_type": "stream",
          "name": "stdout",
          "text": [
            "Downloading data from https://www.cs.toronto.edu/~kriz/cifar-10-python.tar.gz\n",
            "170498071/170498071 [==============================] - 4s 0us/step\n"
          ]
        }
      ]
    },
    {
      "cell_type": "code",
      "source": [
        "classes = np.unique(y_train)\n",
        "nClasses = len(classes)\n",
        "print('Number of Outputs: ', nClasses)\n",
        "print('Number of Output Classes: ', classes)"
      ],
      "metadata": {
        "colab": {
          "base_uri": "https://localhost:8080/"
        },
        "id": "pVfsHKmVz0ly",
        "outputId": "1e9048af-f24d-4779-9266-17467f85e754"
      },
      "execution_count": null,
      "outputs": [
        {
          "output_type": "stream",
          "name": "stdout",
          "text": [
            "Number of Outputs:  10\n",
            "Number of Output Classes:  [0 1 2 3 4 5 6 7 8 9]\n"
          ]
        }
      ]
    },
    {
      "cell_type": "code",
      "source": [
        "#plot images from dataset\n",
        "%matplotlib inline\n",
        "\n",
        "label_list = {\n",
        "    0: 'Airplane',\n",
        "    1: 'Automobile',\n",
        "    2: 'Bird',\n",
        "    3: 'Cat',\n",
        "    4: 'Deer',\n",
        "    5: 'Dog',\n",
        "    6: 'Frog',\n",
        "    7: 'Horse',\n",
        "    8: 'Ship',\n",
        "    9: 'Truck',\n",
        "}\n",
        "\n",
        "plt.figure(figsize = [10,10])"
      ],
      "metadata": {
        "colab": {
          "base_uri": "https://localhost:8080/",
          "height": 52
        },
        "id": "xSSrE1zl0mOk",
        "outputId": "49027d31-def8-482b-a22d-7d7e11605466"
      },
      "execution_count": null,
      "outputs": [
        {
          "output_type": "execute_result",
          "data": {
            "text/plain": [
              "<Figure size 720x720 with 0 Axes>"
            ]
          },
          "metadata": {},
          "execution_count": 4
        },
        {
          "output_type": "display_data",
          "data": {
            "text/plain": [
              "<Figure size 720x720 with 0 Axes>"
            ]
          },
          "metadata": {}
        }
      ]
    },
    {
      "cell_type": "code",
      "source": [
        "#display 1st image in training data\n",
        "plt.subplot(121)\n",
        "curr_img = np.reshape(x_train[0], (32,32,3))\n",
        "plt.imshow(curr_img)\n",
        "print(plt.title(\"(Label: \" + str(label_list[y_train[0][0]]) + \")\"))\n",
        "\n",
        "#display 1st image in testing data\n",
        "plt.subplot(122)\n",
        "curr_img = np.reshape(x_test[0], (32,32,3))\n",
        "plt.imshow(curr_img)\n",
        "print(plt.title(\"(Label: \" + str(label_list[y_test[0][0]]) + \")\"))"
      ],
      "metadata": {
        "colab": {
          "base_uri": "https://localhost:8080/",
          "height": 251
        },
        "id": "NaSW_Nla0qTO",
        "outputId": "1de3c3dd-a5bd-478b-a28d-42b2bb7d4cfe"
      },
      "execution_count": null,
      "outputs": [
        {
          "output_type": "stream",
          "name": "stdout",
          "text": [
            "Text(0.5, 1.0, '(Label: Frog)')\n",
            "Text(0.5, 1.0, '(Label: Cat)')\n"
          ]
        },
        {
          "output_type": "display_data",
          "data": {
            "text/plain": [
              "<Figure size 432x288 with 2 Axes>"
            ],
            "image/png": "[encoded data removed]"
          },
          "metadata": {
            "needs_background": "light"
          }
        }
      ]
    },
    {
      "cell_type": "code",
      "source": [
        "#check max and min values of dataset\n",
        "np.min(x_train), np.max(x_train)"
      ],
      "metadata": {
        "colab": {
          "base_uri": "https://localhost:8080/"
        },
        "id": "OdfOFVWg0tPN",
        "outputId": "93a93e48-92d3-4c31-8e3e-5d6d1e5a1021"
      },
      "execution_count": null,
      "outputs": [
        {
          "output_type": "execute_result",
          "data": {
            "text/plain": [
              "(0, 255)"
            ]
          },
          "metadata": {},
          "execution_count": 6
        }
      ]
    },
    {
      "cell_type": "code",
      "source": [
        "#normalize pixels between 0 and 1\n",
        "x_train = x_train/255.0\n",
        "np.min(x_train), np.max(x_train)\n",
        "x_train.shape"
      ],
      "metadata": {
        "colab": {
          "base_uri": "https://localhost:8080/"
        },
        "id": "9xIffyz204Wc",
        "outputId": "bc0cf356-6825-4af3-bb62-c430b00f31de"
      },
      "execution_count": null,
      "outputs": [
        {
          "output_type": "execute_result",
          "data": {
            "text/plain": [
              "(50000, 32, 32, 3)"
            ]
          },
          "metadata": {},
          "execution_count": 7
        }
      ]
    },
    {
      "cell_type": "code",
      "source": [
        "#flatten images\n",
        "x_train_flat = x_train.reshape(-1,3072)\n",
        "feat_cols = ['pixel' + str(i) for i in range(x_train_flat.shape[1])]\n",
        "df_cifar = pd.DataFrame(x_train_flat, columns = feat_cols)\n",
        "df_cifar['Label'] = y_train\n",
        "print('Size of Data Frame: {}'.format(df_cifar.shape))"
      ],
      "metadata": {
        "colab": {
          "base_uri": "https://localhost:8080/"
        },
        "id": "bSoZ6Sqz0605",
        "outputId": "7d92511b-614b-431c-f3c3-c6a641d27acf"
      },
      "execution_count": null,
      "outputs": [
        {
          "output_type": "stream",
          "name": "stdout",
          "text": [
            "Size of Data Frame: (50000, 3073)\n"
          ]
        }
      ]
    },
    {
      "cell_type": "code",
      "source": [
        "#reshape dataset and determine number of variance\n",
        "x_test = x_test/255.0\n",
        "x_test = x_test.reshape(-1, 32, 32, 3)\n",
        "x_test_flat = x_test.reshape(-1, 3072)"
      ],
      "metadata": {
        "id": "ZAtU1jzj1HyQ"
      },
      "execution_count": null,
      "outputs": []
    },
    {
      "cell_type": "code",
      "source": [
        "pca = PCA(n_components=5)\n",
        "pca.fit(x_train_flat)\n",
        "PCA(copy = True, iterated_power = 'auto', n_components = 0.99, random_state = None, svd_solver = 'auto', tol = 0.0, whiten = False)\n",
        "pca.n_components_"
      ],
      "metadata": {
        "colab": {
          "base_uri": "https://localhost:8080/"
        },
        "id": "ciEOLDgL2z6o",
        "outputId": "193b80f6-bca7-4ea1-ae78-b6821ded62b1"
      },
      "execution_count": null,
      "outputs": [
        {
          "output_type": "execute_result",
          "data": {
            "text/plain": [
              "5"
            ]
          },
          "metadata": {},
          "execution_count": 10
        }
      ]
    },
    {
      "cell_type": "code",
      "source": [
        "train_img_pca = pca.transform(x_train_flat)\n",
        "test_img_pca = pca.transform(x_test_flat)\n",
        "\n",
        "#y_train = np_utils.to_categorical(y_train)\n",
        "#y_test = np_utils.to_categorical(y_test)"
      ],
      "metadata": {
        "id": "tc4_J3ci22cI"
      },
      "execution_count": null,
      "outputs": []
    },
    {
      "cell_type": "code",
      "source": [
        "#variance of principal components\n",
        "print('Explained Variation per Principal Component: {}'.format(pca.explained_variance_ratio_))"
      ],
      "metadata": {
        "colab": {
          "base_uri": "https://localhost:8080/"
        },
        "id": "UEOUf4lH6nND",
        "outputId": "5eb3672b-3a52-472b-d677-c61f644fc930"
      },
      "execution_count": null,
      "outputs": [
        {
          "output_type": "stream",
          "name": "stdout",
          "text": [
            "Explained Variation per Principal Component: [0.2907663  0.11253144 0.06694414 0.03676459 0.03608843]\n"
          ]
        }
      ]
    },
    {
      "cell_type": "code",
      "source": [
        "train_img_pca[0]"
      ],
      "metadata": {
        "colab": {
          "base_uri": "https://localhost:8080/"
        },
        "id": "JQJ3qA3N9Xci",
        "outputId": "3dab2120-c354-4738-86a2-a25243bbeb16"
      },
      "execution_count": null,
      "outputs": [
        {
          "output_type": "execute_result",
          "data": {
            "text/plain": [
              "array([-6.40101763,  2.72903876,  1.50171051, -2.95333278, -4.45258051])"
            ]
          },
          "metadata": {},
          "execution_count": 13
        }
      ]
    },
    {
      "cell_type": "code",
      "source": [
        "scaler = preprocessing.StandardScaler().fit(train_img_pca)"
      ],
      "metadata": {
        "id": "0Ah5OsSIUJzM"
      },
      "execution_count": null,
      "outputs": []
    },
    {
      "cell_type": "code",
      "source": [
        "x_train_scaled = scaler.transform(train_img_pca)\n",
        "x_test_scaled  = scaler.transform(test_img_pca)"
      ],
      "metadata": {
        "id": "M364TKMGVtB9"
      },
      "execution_count": null,
      "outputs": []
    },
    {
      "cell_type": "markdown",
      "source": [
        "We are done with the data preprocessing. Now, we can create the priors and model initializations"
      ],
      "metadata": {
        "id": "Dwp2C_WyWUsT"
      }
    },
    {
      "cell_type": "code",
      "source": [
        "prob_theta = np.asarray([0.1]*10) #Since the Gibbs Sampling method converges much harder than Variational Inference method, we set the probs as 1/10 for each cluster and will not update it "
      ],
      "metadata": {
        "id": "gwOnBtFVW8OM"
      },
      "execution_count": null,
      "outputs": []
    },
    {
      "cell_type": "code",
      "source": [
        "beta_std = 1\n",
        "beta_prior = np.random.normal(0, beta_std, (10,5)) #dimension is 10x5, a length-5 beta_k vector for each one of 10 clusters "
      ],
      "metadata": {
        "id": "I4MU3c6bXmyB"
      },
      "execution_count": null,
      "outputs": []
    },
    {
      "cell_type": "code",
      "source": [
        "y_train_flat = np.ndarray.flatten(y_train)\n",
        "y_train_onehot = np.zeros((y_train_flat.size, y_train_flat.max() + 1))\n",
        "y_train_onehot[np.arange(y_train_flat.size), y_train_flat] = 1"
      ],
      "metadata": {
        "id": "P2UUNincZlcY"
      },
      "execution_count": null,
      "outputs": []
    },
    {
      "cell_type": "code",
      "source": [
        "z_train_prior = np.random.randint(10, size=50000, dtype=int)"
      ],
      "metadata": {
        "id": "0Oi9g3XffG_6"
      },
      "execution_count": null,
      "outputs": []
    },
    {
      "cell_type": "markdown",
      "source": [
        "Now, we can start the parameter update process"
      ],
      "metadata": {
        "id": "b-bmWdkoiOye"
      }
    },
    {
      "cell_type": "code",
      "source": [
        "epochs = 50\n",
        "beta = beta_prior\n",
        "z_train = z_train_prior\n",
        "cluster_num = 10\n",
        "feature_num = pca.n_components_\n",
        "data_num = len(x_train)\n",
        "sig = 1\n",
        "lamb = 1"
      ],
      "metadata": {
        "id": "4DpIW6JVfr1W"
      },
      "execution_count": null,
      "outputs": []
    },
    {
      "cell_type": "code",
      "source": [
        "def normalize_one(arr):\n",
        "  arr = np.asarray(arr)\n",
        "  total = np.sum(arr)\n",
        "  return arr/total"
      ],
      "metadata": {
        "id": "dencAP-0umSQ"
      },
      "execution_count": null,
      "outputs": []
    },
    {
      "cell_type": "code",
      "source": [
        "def calc_log_posterior(z_train, beta, x_train_scaled):\n",
        "  data_num = len(z_train)\n",
        "  cluster_num = beta.shape[0]\n",
        "  feature_num = beta.shape[1]\n",
        "  log_post = 0\n",
        "  for i in range(data_num):\n",
        "    log_post += -(np.sum((x_train_scaled[i]-beta[z_train[i]])**2))/(2*sig**2)\n",
        "  print(log_post)\n",
        "  return log_post"
      ],
      "metadata": {
        "id": "IqRhNnrGSBFO"
      },
      "execution_count": null,
      "outputs": []
    },
    {
      "cell_type": "code",
      "source": [
        "def z_sampler(z_index, beta, x_train_scaled):\n",
        "  cluster_num = beta.shape[0]\n",
        "  feature_num = beta.shape[1] \n",
        "  x_sample = x_train_scaled[z_index]\n",
        "  x_cond_probs = np.asarray([None]*cluster_num)\n",
        "  for cluster in range(cluster_num):\n",
        "    cluster_prob = 0\n",
        "    for feature in range(feature_num):\n",
        "      cluster_prob += np.exp(np.sum((x_train_scaled[z_index]-beta[cluster])**2)/(-2*sig**2))\n",
        "    x_cond_probs[cluster] = cluster_prob\n",
        "  x_cond_probs = normalize_one(x_cond_probs)\n",
        "  z_sampled = np.random.choice(cluster_num, p=np.asarray(x_cond_probs, dtype='float64'))\n",
        "  return z_sampled, x_cond_probs"
      ],
      "metadata": {
        "id": "GHlRXx8fkxZZ"
      },
      "execution_count": null,
      "outputs": []
    },
    {
      "cell_type": "code",
      "source": [
        "def b_sampler(b_index, z_train, x_train_scaled): #b_index is equivalent to k from the lecture notes\n",
        "  data_num = len(z_train)\n",
        "  feature_num = len(x_train_scaled[0])\n",
        "  indeces = [i for i in range(data_num) if z_train[i] == b_index]\n",
        "  x_indexed = x_train_scaled[indeces]\n",
        "  x_indexed_mean = np.mean(x_indexed, axis=0)\n",
        "  nk = len(indeces) #number of x's assigned as y = k (according to z, not the true label y)\n",
        "  mu_k = (nk/(sig**2))/((nk/(sig**2))+(1/(lamb**2)))*x_indexed_mean\n",
        "  lamb_k_val = np.sqrt(1/((nk/(sig**2))+(1/(lamb**2))))\n",
        "  lamb_k = np.asarray([lamb_k_val]*feature_num)\n",
        "  return np.random.normal(loc=mu_k, scale=lamb_k) #returns updated b_k for a specific cluster k (b_index)"
      ],
      "metadata": {
        "id": "yFGzDmUICIiJ"
      },
      "execution_count": null,
      "outputs": []
    },
    {
      "cell_type": "code",
      "source": [
        "beta_std_vals = [0.5, 2, 10]\n",
        "sig_values = [0.5, 2, 10]\n",
        "lamb_values = [0.5, 2, 10]\n",
        "\n",
        "epochs = 10\n",
        "cluster_num = 10\n",
        "feature_num = pca.n_components_\n",
        "data_num = len(x_train)\n",
        "z_train = z_train_prior"
      ],
      "metadata": {
        "id": "E6cL6pFXT87b"
      },
      "execution_count": null,
      "outputs": []
    },
    {
      "cell_type": "code",
      "source": [
        "for beta_std in beta_std_vals:\n",
        "  for sig in sig_values:\n",
        "    for lamb in lamb_values:\n",
        "      beta = np.random.normal(0, beta_std, (10,5)) #dimension is 10x5, a length-5 beta_k vector for each one of 10 clusters\n",
        "      print(\"beta_std: \" + str(beta_std) + \", sig: \" + str(sig) +\", lamb: \" + str(lamb)) \n",
        "      for epoch in range(epochs):\n",
        "        for z_index in range(data_num):\n",
        "          z_train[z_index] = z_sampler(z_index, beta, x_train_scaled)[0] \n",
        "        for cluster in range(cluster_num):\n",
        "            beta[cluster] = b_sampler(cluster, z_train, x_train_scaled)\n",
        "        calc_log_posterior(z_train, beta, x_train_scaled)\n"
      ],
      "metadata": {
        "colab": {
          "base_uri": "https://localhost:8080/"
        },
        "id": "HNDHZ2wiVnuu",
        "outputId": "b670c005-b802-43c2-bcf4-b1daba4b1ae8"
      },
      "execution_count": null,
      "outputs": [
        {
          "output_type": "stream",
          "name": "stdout",
          "text": [
            "beta_std: 0.5, sig: 0.5, lamb: 0.5\n",
            "-317967.01123101794\n",
            "-287077.3779391262\n",
            "-275295.11315929354\n",
            "-268277.7999647387\n",
            "-262580.20270423556\n",
            "-257515.49447112196\n",
            "-252256.54177199097\n",
            "-247088.51145617687\n",
            "-243230.11276432098\n",
            "-241848.71836123956\n",
            "beta_std: 0.5, sig: 0.5, lamb: 2\n",
            "-328550.91749527975\n",
            "-287606.4152735736\n",
            "-275748.72207892395\n",
            "-268201.8199284189\n",
            "-260681.4555724063\n",
            "-255018.21102845433\n",
            "-251567.6072685146\n",
            "-249155.0678023474\n",
            "-247694.03046869137\n",
            "-246300.9490368463\n",
            "beta_std: 0.5, sig: 0.5, lamb: 10\n",
            "-315309.74946321105\n",
            "-270011.3156392561\n",
            "-258872.79027182126\n",
            "-256087.86579495214\n",
            "-254619.41806888086\n",
            "-253695.19605161902\n",
            "-252837.66258913555\n",
            "-251817.61377655942\n",
            "-251265.8052998182\n",
            "-250256.2026007393\n",
            "beta_std: 0.5, sig: 2, lamb: 0.5\n",
            "-30762.13531201074\n",
            "-31227.334411007578\n",
            "-31272.484817233777\n",
            "-31274.09321776634\n",
            "-31281.145781928568\n",
            "-31270.187618664422\n",
            "-31273.900170296427\n",
            "-31259.415950427912\n",
            "-31270.541771876502\n",
            "-31265.42077350731\n",
            "beta_std: 0.5, sig: 2, lamb: 2\n",
            "-31079.67412113971\n",
            "-31252.00361783467\n",
            "-31255.51668951924\n",
            "-31265.20334476822\n",
            "-31267.644130550587\n",
            "-31264.365178447566\n",
            "-31267.91442707692\n",
            "-31264.985435282484\n",
            "-31266.80630157419\n",
            "-31273.15685365578\n",
            "beta_std: 0.5, sig: 2, lamb: 10\n",
            "-30690.255274365463\n",
            "-31212.007881801605\n",
            "-31265.92126209549\n",
            "-31269.521930379356\n",
            "-31266.616920294276\n",
            "-31261.801319655897\n",
            "-31264.866932183726\n",
            "-31265.436176609066\n",
            "-31262.816953388865\n",
            "-31273.033469365553\n",
            "beta_std: 0.5, sig: 10, lamb: 0.5\n",
            "-1271.824210315216\n",
            "-1271.3983444388132\n",
            "-1271.3127728733275\n",
            "-1272.7206247782894\n",
            "-1271.6580620371153\n",
            "-1270.896310481914\n",
            "-1270.193868704294\n",
            "-1270.549070589148\n",
            "-1273.2541314626085\n",
            "-1278.8390216634489\n",
            "beta_std: 0.5, sig: 10, lamb: 2\n",
            "-1272.0656335143574\n",
            "-1271.902657641206\n",
            "-1274.3833077388324\n",
            "-1274.9196125102847\n",
            "-1271.4844867644374\n",
            "-1267.2270626503127\n",
            "-1277.592329412846\n",
            "-1270.7992887304783\n",
            "-1277.1794003974655\n",
            "-1280.8529730291434\n",
            "beta_std: 0.5, sig: 10, lamb: 10\n",
            "-1264.768295391476\n",
            "-1270.4874753076201\n",
            "-1276.4205537668615\n",
            "-1273.954618930219\n",
            "-1271.7742887424524\n",
            "-1280.206672714516\n",
            "-1276.0871948298752\n",
            "-1273.5742604796826\n",
            "-1283.8364371188081\n",
            "-1263.633173910528\n",
            "beta_std: 2, sig: 0.5, lamb: 0.5\n",
            "-366440.03062718385\n",
            "-306859.8920581809\n",
            "-281461.7068124981\n",
            "-271291.65868097445\n",
            "-265314.534195385\n",
            "-260062.48898744685\n",
            "-256263.14284538862\n",
            "-253435.3475468646\n",
            "-250687.12975310307\n",
            "-248847.41056900736\n",
            "beta_std: 2, sig: 0.5, lamb: 2\n",
            "-322502.0282051296\n",
            "-291084.43833352835\n",
            "-273758.8143092686\n",
            "-263458.79417794215\n",
            "-258561.8214680899\n",
            "-255542.61142126276\n",
            "-252365.78009603816\n",
            "-248917.28299235067\n",
            "-246356.588456134\n",
            "-245423.74311172796\n",
            "beta_std: 2, sig: 0.5, lamb: 10\n",
            "-369729.670635046\n",
            "-309116.23021856655\n",
            "-281759.1297814549\n",
            "-271403.29799303156\n",
            "-267164.72679646796\n",
            "-264438.61189086083\n",
            "-262273.6646239067\n",
            "-260877.85527605104\n",
            "-258841.70972875267\n",
            "-256608.4510807915\n",
            "beta_std: 2, sig: 2, lamb: 0.5\n",
            "-27419.953494639718\n",
            "-30885.482514629857\n",
            "-31236.66292846305\n",
            "-31267.316738315676\n",
            "-31264.704881339938\n",
            "-31267.116660442938\n",
            "-31267.801127834788\n",
            "-31260.65890359308\n",
            "-31268.843714021976\n",
            "-31266.55334252025\n",
            "beta_std: 2, sig: 2, lamb: 2\n",
            "-28047.81524025026\n",
            "-30899.96791634252\n",
            "-31236.871990653257\n",
            "-31265.355989351687\n",
            "-31261.307094795415\n",
            "-31263.245010569706\n",
            "-31271.57311424959\n",
            "-31272.621363805443\n",
            "-31264.84633644972\n",
            "-31270.03017215811\n",
            "beta_std: 2, sig: 2, lamb: 10\n",
            "-28086.17959216273\n",
            "-30971.951615098136\n",
            "-31238.9272244117\n",
            "-31266.90214229531\n",
            "-31267.035569278713\n",
            "-31259.769827134318\n",
            "-31267.447016645412\n",
            "-31282.131624406957\n",
            "-31270.39756932246\n",
            "-31269.131509672658\n",
            "beta_std: 2, sig: 10, lamb: 0.5\n",
            "-1269.5336808443258\n",
            "-1277.1990822596674\n",
            "-1290.2662069407372\n",
            "-1277.2719772229755\n",
            "-1268.158459399045\n",
            "-1267.1991112227552\n",
            "-1274.0481029773493\n",
            "-1271.0473858177359\n",
            "-1274.9155946765823\n",
            "-1270.6208879474866\n",
            "beta_std: 2, sig: 10, lamb: 2\n",
            "-1272.4914462953739\n",
            "-1273.5363608193838\n",
            "-1286.0397793649113\n",
            "-1274.6186555468346\n",
            "-1282.112701239512\n",
            "-1281.5199629607012\n",
            "-1274.3177171585621\n",
            "-1285.8392351892314\n",
            "-1276.4474415839431\n",
            "-1280.2809119139158\n",
            "beta_std: 2, sig: 10, lamb: 10\n",
            "-1277.4129961288118\n",
            "-1277.3115022369973\n",
            "-1273.5378048397954\n",
            "-1278.5605905194261\n"
          ]
        }
      ]
    },
    {
      "cell_type": "markdown",
      "source": [
        "My Gibbs sampling algorithm did not really converge on Cifar-10 Dataset even though I could not find any error in the implementation. That is why, I decided to use Scikit Learn Library to implement LDA on a news headline data set:"
      ],
      "metadata": {
        "id": "jAJLvoH4LaU8"
      }
    },
    {
      "cell_type": "code",
      "source": [
        "import os\n",
        "import pandas as pd\n",
        "from nltk.tokenize import RegexpTokenizer\n",
        "from sklearn.feature_extraction.text import TfidfVectorizer\n",
        "from sklearn.decomposition import LatentDirichletAllocation\n",
        "\n",
        "# Load Dataset\n",
        "data = pd.read_csv('abcnews-date-text.csv', error_bad_lines=False);\n",
        "documents_list= data['headline_text'].tolist()"
      ],
      "metadata": {
        "colab": {
          "base_uri": "https://localhost:8080/"
        },
        "id": "uqip_LwtLt4r",
        "outputId": "fd5e2647-70bd-4b38-c478-918a0dd239ee"
      },
      "execution_count": null,
      "outputs": [
        {
          "output_type": "stream",
          "name": "stderr",
          "text": [
            "/usr/local/lib/python3.7/dist-packages/IPython/core/interactiveshell.py:3326: FutureWarning: The error_bad_lines argument has been deprecated and will be removed in a future version.\n",
            "\n",
            "\n",
            "  exec(code_obj, self.user_global_ns, self.user_ns)\n"
          ]
        }
      ]
    },
    {
      "cell_type": "code",
      "source": [
        "documents_list_in = documents_list[:1000000]\n",
        "documents_list_out = documents_list[1000000:]"
      ],
      "metadata": {
        "id": "nwd1LEZodT6D"
      },
      "execution_count": null,
      "outputs": []
    },
    {
      "cell_type": "code",
      "source": [
        "# Initialize regex tokenizer\n",
        "tokenizer = RegexpTokenizer(r'\\w+')\n",
        "\n",
        "# Vectorize document using TF-IDF\n",
        "tfidf = TfidfVectorizer(lowercase=True,\n",
        "                        stop_words='english',\n",
        "                        ngram_range = (1,1),\n",
        "                        tokenizer = tokenizer.tokenize)\n",
        "\n",
        "# Fit and Transform the documents\n",
        "train_data_in = tfidf.fit_transform(documents_list_in) \n",
        "train_data_out = tfidf.transform(documents_list_out) "
      ],
      "metadata": {
        "id": "Q471mg4eL1uV"
      },
      "execution_count": null,
      "outputs": []
    },
    {
      "cell_type": "code",
      "source": [
        "# Define the number of topics or components\n",
        "num_components=4\n",
        "\n",
        "# Create LDA object\n",
        "model2=LatentDirichletAllocation(n_components=num_components, max_iter = 2)\n",
        "model4=LatentDirichletAllocation(n_components=num_components, max_iter = 4)\n",
        "model6=LatentDirichletAllocation(n_components=num_components, max_iter = 6)\n",
        "model8=LatentDirichletAllocation(n_components=num_components, max_iter = 8)\n",
        "model10=LatentDirichletAllocation(n_components=num_components, max_iter = 10)"
      ],
      "metadata": {
        "id": "6WQN_gvxMTZC"
      },
      "execution_count": null,
      "outputs": []
    },
    {
      "cell_type": "code",
      "source": [
        "# Fit SVD model on data\n",
        "model2.fit(train_data_in)"
      ],
      "metadata": {
        "colab": {
          "base_uri": "https://localhost:8080/"
        },
        "id": "HStB3zuZenH8",
        "outputId": "9a47d17a-caae-4454-98c3-9ed3fdf9f0f3"
      },
      "execution_count": null,
      "outputs": [
        {
          "output_type": "execute_result",
          "data": {
            "text/plain": [
              "LatentDirichletAllocation(max_iter=2, n_components=4)"
            ]
          },
          "metadata": {},
          "execution_count": 22
        }
      ]
    },
    {
      "cell_type": "code",
      "source": [
        "lda_matrix2 = model2.transform(train_data_in)\n",
        "\n"
      ],
      "metadata": {
        "id": "4zLBLnceMVW3"
      },
      "execution_count": null,
      "outputs": []
    },
    {
      "cell_type": "code",
      "source": [
        "# Get Components \n",
        "lda_components2=model2.components_\n",
        "# Print the topics with their terms\n",
        "terms = tfidf.get_feature_names()\n",
        "\n",
        "for index, component in enumerate(lda_components2):\n",
        "    zipped = zip(terms, component)\n",
        "    top_terms_key=sorted(zipped, key = lambda t: t[1], reverse=True)[:10]\n",
        "    top_terms_list=list(dict(top_terms_key).keys())\n",
        "    print(\"Topic \"+str(index)+\": \",top_terms_list)"
      ],
      "metadata": {
        "colab": {
          "base_uri": "https://localhost:8080/"
        },
        "id": "f6SS8WJbWq-O",
        "outputId": "772f6dd2-abd3-4be4-d807-ad4e33906055"
      },
      "execution_count": null,
      "outputs": [
        {
          "output_type": "stream",
          "name": "stderr",
          "text": [
            "/usr/local/lib/python3.7/dist-packages/sklearn/utils/deprecation.py:87: FutureWarning: Function get_feature_names is deprecated; get_feature_names is deprecated in 1.0 and will be removed in 1.2. Please use get_feature_names_out instead.\n",
            "  warnings.warn(msg, category=FutureWarning)\n"
          ]
        },
        {
          "output_type": "stream",
          "name": "stdout",
          "text": [
            "Topic 0:  ['interview', 'man', 'police', 'court', 'says', 'jailed', 'new', 'charged', 'drug', 'death']\n",
            "Topic 1:  ['crash', 'council', 'police', 'says', 'qld', 'new', 'man', 'court', 'govt', 'country']\n",
            "Topic 2:  ['police', 'man', 'court', 'new', 'business', 'market', 'govt', 'news', 'attack', 'fight']\n",
            "Topic 3:  ['new', 'police', 'plan', 'govt', 'abc', 'charged', 'farmers', 'weather', 'man', 'help']\n"
          ]
        }
      ]
    },
    {
      "cell_type": "code",
      "source": [
        "model2.perplexity(train_data_in)"
      ],
      "metadata": {
        "colab": {
          "base_uri": "https://localhost:8080/"
        },
        "id": "JPAMn7pdXJ4T",
        "outputId": "3167ea5d-1cd1-4241-b349-dad4d8ca34d2"
      },
      "execution_count": null,
      "outputs": [
        {
          "output_type": "execute_result",
          "data": {
            "text/plain": [
              "19806.8986356928"
            ]
          },
          "metadata": {},
          "execution_count": 26
        }
      ]
    },
    {
      "cell_type": "code",
      "source": [
        "model2.perplexity(train_data_out)"
      ],
      "metadata": {
        "colab": {
          "base_uri": "https://localhost:8080/"
        },
        "id": "8gcnIzhEaxES",
        "outputId": "ee147d41-ce1c-4c3a-f3a2-ac250d5925a9"
      },
      "execution_count": null,
      "outputs": [
        {
          "output_type": "execute_result",
          "data": {
            "text/plain": [
              "42154.698557842385"
            ]
          },
          "metadata": {},
          "execution_count": 27
        }
      ]
    },
    {
      "cell_type": "code",
      "source": [
        "# Fit SVD model on data\n",
        "model4.fit(train_data_in)"
      ],
      "metadata": {
        "colab": {
          "base_uri": "https://localhost:8080/"
        },
        "id": "k_J0ttpkkgxw",
        "outputId": "3a5ca1a8-f90a-4656-d001-3e6e19b92634"
      },
      "execution_count": null,
      "outputs": [
        {
          "output_type": "execute_result",
          "data": {
            "text/plain": [
              "LatentDirichletAllocation(max_iter=4, n_components=4)"
            ]
          },
          "metadata": {},
          "execution_count": 28
        }
      ]
    },
    {
      "cell_type": "code",
      "source": [
        "lda_matrix4 = model4.transform(train_data_in)"
      ],
      "metadata": {
        "id": "evssI8s-kzst"
      },
      "execution_count": null,
      "outputs": []
    },
    {
      "cell_type": "code",
      "source": [
        "# Get Components \n",
        "lda_components4=model4.components_\n",
        "# Print the topics with their terms\n",
        "terms = tfidf.get_feature_names()\n",
        "\n",
        "for index, component in enumerate(lda_components4):\n",
        "    zipped = zip(terms, component)\n",
        "    top_terms_key=sorted(zipped, key = lambda t: t[1], reverse=True)[:10]\n",
        "    top_terms_list=list(dict(top_terms_key).keys())\n",
        "    print(\"Topic \"+str(index)+\": \",top_terms_list)"
      ],
      "metadata": {
        "colab": {
          "base_uri": "https://localhost:8080/"
        },
        "id": "iEVTXUN0n4Lr",
        "outputId": "23302299-aa1b-4eba-82ed-847c5fba98df"
      },
      "execution_count": null,
      "outputs": [
        {
          "output_type": "stream",
          "name": "stderr",
          "text": [
            "/usr/local/lib/python3.7/dist-packages/sklearn/utils/deprecation.py:87: FutureWarning: Function get_feature_names is deprecated; get_feature_names is deprecated in 1.0 and will be removed in 1.2. Please use get_feature_names_out instead.\n",
            "  warnings.warn(msg, category=FutureWarning)\n"
          ]
        },
        {
          "output_type": "stream",
          "name": "stdout",
          "text": [
            "Topic 0:  ['man', 'police', 'abc', 'crash', 'court', 'killed', 'car', 'govt', 'child', 'accused']\n",
            "Topic 1:  ['water', 'police', 'new', 'council', 'interview', 'farmers', 'plan', 'govt', 'search', 'wa']\n",
            "Topic 2:  ['new', 'rural', 'council', 'country', 'health', 'nsw', 'national', 'govt', 'qld', 'says']\n",
            "Topic 3:  ['man', 'police', 'charged', 'day', 'death', 'new', 'market', 'interview', 'woman', 'court']\n"
          ]
        }
      ]
    },
    {
      "cell_type": "code",
      "source": [
        "model4.perplexity(train_data_in)"
      ],
      "metadata": {
        "colab": {
          "base_uri": "https://localhost:8080/"
        },
        "id": "0a5fi7e9oa93",
        "outputId": "21b2fe19-1b46-4dc2-f4fd-0cda0dc171e6"
      },
      "execution_count": null,
      "outputs": [
        {
          "output_type": "execute_result",
          "data": {
            "text/plain": [
              "18047.317748728412"
            ]
          },
          "metadata": {},
          "execution_count": 31
        }
      ]
    },
    {
      "cell_type": "code",
      "source": [
        "model4.perplexity(train_data_out)"
      ],
      "metadata": {
        "colab": {
          "base_uri": "https://localhost:8080/"
        },
        "id": "G_2mLY_gogJj",
        "outputId": "02ecb63c-3bfa-4b41-de2e-f7a897c73824"
      },
      "execution_count": null,
      "outputs": [
        {
          "output_type": "execute_result",
          "data": {
            "text/plain": [
              "39061.15305092236"
            ]
          },
          "metadata": {},
          "execution_count": 32
        }
      ]
    },
    {
      "cell_type": "code",
      "source": [
        "# Fit SVD model on data\n",
        "model6.fit(train_data_in)"
      ],
      "metadata": {
        "colab": {
          "base_uri": "https://localhost:8080/"
        },
        "id": "xwvBijx7pkbc",
        "outputId": "6c8852fa-9c45-444c-8be4-1edf9086acc0"
      },
      "execution_count": null,
      "outputs": [
        {
          "output_type": "execute_result",
          "data": {
            "text/plain": [
              "LatentDirichletAllocation(max_iter=6, n_components=4)"
            ]
          },
          "metadata": {},
          "execution_count": 33
        }
      ]
    },
    {
      "cell_type": "code",
      "source": [
        "lda_matrix6 = model6.transform(train_data_in)"
      ],
      "metadata": {
        "id": "uTLc6NbIqENS"
      },
      "execution_count": null,
      "outputs": []
    },
    {
      "cell_type": "code",
      "source": [
        "# Get Components \n",
        "lda_components6=model6.components_\n",
        "# Print the topics with their terms\n",
        "terms = tfidf.get_feature_names()\n",
        "\n",
        "for index, component in enumerate(lda_components6):\n",
        "    zipped = zip(terms, component)\n",
        "    top_terms_key=sorted(zipped, key = lambda t: t[1], reverse=True)[:10]\n",
        "    top_terms_list=list(dict(top_terms_key).keys())\n",
        "    print(\"Topic \"+str(index)+\": \",top_terms_list)"
      ],
      "metadata": {
        "colab": {
          "base_uri": "https://localhost:8080/"
        },
        "id": "57bscbcIuFzD",
        "outputId": "cac36e55-5fe3-4449-dc0d-87817e232902"
      },
      "execution_count": null,
      "outputs": [
        {
          "output_type": "stream",
          "name": "stderr",
          "text": [
            "/usr/local/lib/python3.7/dist-packages/sklearn/utils/deprecation.py:87: FutureWarning: Function get_feature_names is deprecated; get_feature_names is deprecated in 1.0 and will be removed in 1.2. Please use get_feature_names_out instead.\n",
            "  warnings.warn(msg, category=FutureWarning)\n"
          ]
        },
        {
          "output_type": "stream",
          "name": "stdout",
          "text": [
            "Topic 0:  ['interview', 'day', 'australia', 'cup', 'win', 'new', 'world', 'says', 'final', 'drug']\n",
            "Topic 1:  ['man', 'police', 'crash', 'killed', 'court', 'charged', 'death', 'woman', 'missing', 'car']\n",
            "Topic 2:  ['govt', 'abc', 'water', 'new', 'rural', 'farmers', 'council', 'plan', 'police', 'urged']\n",
            "Topic 3:  ['new', 'council', 'police', 'plan', 'centre', 'blaze', 'fears', 'water', 'interview', 'home']\n"
          ]
        }
      ]
    },
    {
      "cell_type": "code",
      "source": [
        "model6.perplexity(train_data_in)"
      ],
      "metadata": {
        "colab": {
          "base_uri": "https://localhost:8080/"
        },
        "id": "P2a2A6L9uuI9",
        "outputId": "47ae7093-0ef0-43d4-d828-eb9a62004086"
      },
      "execution_count": null,
      "outputs": [
        {
          "output_type": "execute_result",
          "data": {
            "text/plain": [
              "17246.841850688787"
            ]
          },
          "metadata": {},
          "execution_count": 36
        }
      ]
    },
    {
      "cell_type": "code",
      "source": [
        "model6.perplexity(train_data_out)"
      ],
      "metadata": {
        "colab": {
          "base_uri": "https://localhost:8080/"
        },
        "id": "lCL7nVNwu3gn",
        "outputId": "6b6ec0ea-3c64-4036-e85d-aee7c7053edb"
      },
      "execution_count": null,
      "outputs": [
        {
          "output_type": "execute_result",
          "data": {
            "text/plain": [
              "37662.68106757268"
            ]
          },
          "metadata": {},
          "execution_count": 37
        }
      ]
    },
    {
      "cell_type": "code",
      "source": [
        "# Fit SVD model on data\n",
        "model8.fit(train_data_in)"
      ],
      "metadata": {
        "colab": {
          "base_uri": "https://localhost:8080/"
        },
        "id": "_WknBD6SvjVn",
        "outputId": "c20c5bdc-30f7-44f6-888a-795b71f99af7"
      },
      "execution_count": null,
      "outputs": [
        {
          "output_type": "execute_result",
          "data": {
            "text/plain": [
              "LatentDirichletAllocation(max_iter=8, n_components=4)"
            ]
          },
          "metadata": {},
          "execution_count": 38
        }
      ]
    },
    {
      "cell_type": "code",
      "source": [
        "lda_matrix8 = model8.transform(train_data_in)"
      ],
      "metadata": {
        "id": "sGlLZZf0wx69"
      },
      "execution_count": null,
      "outputs": []
    },
    {
      "cell_type": "code",
      "source": [
        "# Get Components \n",
        "lda_components8=model8.components_\n",
        "# Print the topics with their terms\n",
        "terms = tfidf.get_feature_names()\n",
        "\n",
        "for index, component in enumerate(lda_components8):\n",
        "    zipped = zip(terms, component)\n",
        "    top_terms_key=sorted(zipped, key = lambda t: t[1], reverse=True)[:10]\n",
        "    top_terms_list=list(dict(top_terms_key).keys())\n",
        "    print(\"Topic \"+str(index)+\": \",top_terms_list)"
      ],
      "metadata": {
        "colab": {
          "base_uri": "https://localhost:8080/"
        },
        "id": "E-lVAQ431yvr",
        "outputId": "aceed445-b03b-498c-e0b9-fb890156c0be"
      },
      "execution_count": null,
      "outputs": [
        {
          "output_type": "stream",
          "name": "stderr",
          "text": [
            "/usr/local/lib/python3.7/dist-packages/sklearn/utils/deprecation.py:87: FutureWarning: Function get_feature_names is deprecated; get_feature_names is deprecated in 1.0 and will be removed in 1.2. Please use get_feature_names_out instead.\n",
            "  warnings.warn(msg, category=FutureWarning)\n"
          ]
        },
        {
          "output_type": "stream",
          "name": "stdout",
          "text": [
            "Topic 0:  ['new', 'power', 'water', 'day', 'closer', 'council', 'final', 'win', 'rain', 'wins']\n",
            "Topic 1:  ['interview', 'north', 'south', 'new', 'police', 'west', 'australia', 'council', 'aid', 'cup']\n",
            "Topic 2:  ['man', 'police', 'crash', 'charged', 'car', 'killed', 'missing', 'court', 'murder', 'woman']\n",
            "Topic 3:  ['govt', 'abc', 'market', 'new', 'rural', 'plan', 'council', 'report', 'rise', 'business']\n"
          ]
        }
      ]
    },
    {
      "cell_type": "code",
      "source": [
        "model8.perplexity(train_data_in)"
      ],
      "metadata": {
        "colab": {
          "base_uri": "https://localhost:8080/"
        },
        "id": "L2lsP7f-2PsJ",
        "outputId": "d5bd0423-4d29-43b6-dcf8-d0e8d901ed00"
      },
      "execution_count": null,
      "outputs": [
        {
          "output_type": "execute_result",
          "data": {
            "text/plain": [
              "16682.95821428011"
            ]
          },
          "metadata": {},
          "execution_count": 41
        }
      ]
    },
    {
      "cell_type": "code",
      "source": [
        "model8.perplexity(train_data_out)"
      ],
      "metadata": {
        "colab": {
          "base_uri": "https://localhost:8080/"
        },
        "id": "7tetCEze2YPz",
        "outputId": "e45d948c-beff-4e4e-99c1-5f2c208512ef"
      },
      "execution_count": null,
      "outputs": [
        {
          "output_type": "execute_result",
          "data": {
            "text/plain": [
              "36767.57359086032"
            ]
          },
          "metadata": {},
          "execution_count": 42
        }
      ]
    },
    {
      "cell_type": "code",
      "source": [
        "# Fit SVD model on data\n",
        "model10.fit(train_data_in)"
      ],
      "metadata": {
        "colab": {
          "base_uri": "https://localhost:8080/"
        },
        "id": "_6zDxfO_3VHV",
        "outputId": "44ccfe87-9fdc-4eb5-9b3c-e28cd99bb689"
      },
      "execution_count": null,
      "outputs": [
        {
          "output_type": "execute_result",
          "data": {
            "text/plain": [
              "LatentDirichletAllocation(n_components=4)"
            ]
          },
          "metadata": {},
          "execution_count": 43
        }
      ]
    },
    {
      "cell_type": "code",
      "source": [
        "lda_matrix10 = model10.transform(train_data_in)"
      ],
      "metadata": {
        "id": "5SPbUw_z6a0t"
      },
      "execution_count": null,
      "outputs": []
    },
    {
      "cell_type": "code",
      "source": [
        "# Get Components \n",
        "lda_components10=model10.components_\n",
        "# Print the topics with their terms\n",
        "terms = tfidf.get_feature_names()\n",
        "\n",
        "for index, component in enumerate(lda_components10):\n",
        "    zipped = zip(terms, component)\n",
        "    top_terms_key=sorted(zipped, key = lambda t: t[1], reverse=True)[:10]\n",
        "    top_terms_list=list(dict(top_terms_key).keys())\n",
        "    print(\"Topic \"+str(index)+\": \",top_terms_list)"
      ],
      "metadata": {
        "colab": {
          "base_uri": "https://localhost:8080/"
        },
        "id": "ZzbO8jxS_f_F",
        "outputId": "91f57547-f9b7-42eb-b8ae-6e7586ba61a0"
      },
      "execution_count": null,
      "outputs": [
        {
          "output_type": "stream",
          "name": "stderr",
          "text": [
            "/usr/local/lib/python3.7/dist-packages/sklearn/utils/deprecation.py:87: FutureWarning: Function get_feature_names is deprecated; get_feature_names is deprecated in 1.0 and will be removed in 1.2. Please use get_feature_names_out instead.\n",
            "  warnings.warn(msg, category=FutureWarning)\n"
          ]
        },
        {
          "output_type": "stream",
          "name": "stdout",
          "text": [
            "Topic 0:  ['police', 'man', 'crash', 'charged', 'car', 'killed', 'missing', 'death', 'woman', 'dies']\n",
            "Topic 1:  ['health', 'govt', 'new', 'rural', 'child', 'budget', 'says', 'council', 'news', 'funding']\n",
            "Topic 2:  ['water', 'council', 'new', 'govt', 'plan', 'abc', 'weather', 'says', 'pm', 'report']\n",
            "Topic 3:  ['interview', 'win', 'cup', 'world', 'court', 'test', 'final', 'guilty', 'murder', 'trial']\n"
          ]
        }
      ]
    },
    {
      "cell_type": "code",
      "source": [
        "model10.perplexity(train_data_in)"
      ],
      "metadata": {
        "colab": {
          "base_uri": "https://localhost:8080/"
        },
        "id": "nX-SsPq-_6eb",
        "outputId": "497213cf-91c5-4f50-b784-a5ab0132aaa7"
      },
      "execution_count": null,
      "outputs": [
        {
          "output_type": "execute_result",
          "data": {
            "text/plain": [
              "16155.872705848691"
            ]
          },
          "metadata": {},
          "execution_count": 46
        }
      ]
    },
    {
      "cell_type": "code",
      "source": [
        "model10.perplexity(train_data_out)"
      ],
      "metadata": {
        "colab": {
          "base_uri": "https://localhost:8080/"
        },
        "id": "cn_ChIe6AFdC",
        "outputId": "a943e7f9-1833-4a5f-dcda-7f4bc5f95b63"
      },
      "execution_count": null,
      "outputs": [
        {
          "output_type": "execute_result",
          "data": {
            "text/plain": [
              "35816.71935787367"
            ]
          },
          "metadata": {},
          "execution_count": 47
        }
      ]
    },
    {
      "cell_type": "code",
      "source": [
        "model10_8=LatentDirichletAllocation(n_components=8, max_iter = 10)"
      ],
      "metadata": {
        "id": "erXC2OlGAp4G"
      },
      "execution_count": null,
      "outputs": []
    },
    {
      "cell_type": "code",
      "source": [
        "# Fit SVD model on data\n",
        "model10_8.fit(train_data_in)"
      ],
      "metadata": {
        "colab": {
          "base_uri": "https://localhost:8080/"
        },
        "id": "W1-l9dqSBFeW",
        "outputId": "579b11ca-7e04-450b-f295-b5b6e1a477bf"
      },
      "execution_count": null,
      "outputs": [
        {
          "output_type": "execute_result",
          "data": {
            "text/plain": [
              "LatentDirichletAllocation(n_components=8)"
            ]
          },
          "metadata": {},
          "execution_count": 49
        }
      ]
    },
    {
      "cell_type": "code",
      "source": [
        "lda_matrix10_8 = model10_8.transform(train_data_in)"
      ],
      "metadata": {
        "id": "2RcZ7AKBBKVA"
      },
      "execution_count": null,
      "outputs": []
    },
    {
      "cell_type": "code",
      "source": [
        "# Get Components \n",
        "lda_components10_8=model10_8.components_\n",
        "# Print the topics with their terms\n",
        "terms = tfidf.get_feature_names()\n",
        "\n",
        "for index, component in enumerate(lda_components10_8):\n",
        "    zipped = zip(terms, component)\n",
        "    top_terms_key=sorted(zipped, key = lambda t: t[1], reverse=True)[:10]\n",
        "    top_terms_list=list(dict(top_terms_key).keys())\n",
        "    print(\"Topic \"+str(index)+\": \",top_terms_list)"
      ],
      "metadata": {
        "colab": {
          "base_uri": "https://localhost:8080/"
        },
        "id": "2rwHKgx8FJxv",
        "outputId": "78412dba-e724-4e8c-bda7-394e13f50e48"
      },
      "execution_count": null,
      "outputs": [
        {
          "output_type": "stream",
          "name": "stderr",
          "text": [
            "/usr/local/lib/python3.7/dist-packages/sklearn/utils/deprecation.py:87: FutureWarning: Function get_feature_names is deprecated; get_feature_names is deprecated in 1.0 and will be removed in 1.2. Please use get_feature_names_out instead.\n",
            "  warnings.warn(msg, category=FutureWarning)\n"
          ]
        },
        {
          "output_type": "stream",
          "name": "stdout",
          "text": [
            "Topic 0:  ['interview', 'win', 'cup', 'final', 'clash', 'tigers', 'open', 'england', 'play', 'title']\n",
            "Topic 1:  ['man', 'police', 'court', 'charged', 'murder', 'death', 'missing', 'accused', 'charges', 'woman']\n",
            "Topic 2:  ['iraq', 'killed', 'news', 'day', 'pakistan', 'kills', 'dead', 'troops', 'blast', 'abc']\n",
            "Topic 3:  ['council', 'govt', 'new', 'plan', 'abc', 'weather', 'union', 'labor', 'says', 'workers']\n",
            "Topic 4:  ['market', 'prices', 'live', 'rain', 'east', 'share', 'markets', 'price', 'australian', 'firefighters']\n",
            "Topic 5:  ['interview', 'world', 'asylum', 'new', 'cup', 'wins', 'australia', 'smith', 'seekers', 'league']\n",
            "Topic 6:  ['water', 'health', 'govt', 'new', 'plan', 'funding', 'boost', 'urged', 'council', 'qld']\n",
            "Topic 7:  ['crash', 'car', 'dies', 'man', 'fatal', 'accident', 'police', 'driver', 'plane', 'killed']\n"
          ]
        }
      ]
    },
    {
      "cell_type": "code",
      "source": [
        "model10_8.perplexity(train_data_in)"
      ],
      "metadata": {
        "colab": {
          "base_uri": "https://localhost:8080/"
        },
        "id": "CvrM1XOnGSHr",
        "outputId": "478b7930-114e-463a-edb5-ece773956e5d"
      },
      "execution_count": null,
      "outputs": [
        {
          "output_type": "execute_result",
          "data": {
            "text/plain": [
              "21103.808072908552"
            ]
          },
          "metadata": {},
          "execution_count": 52
        }
      ]
    },
    {
      "cell_type": "code",
      "source": [
        "model10_8.perplexity(train_data_out)"
      ],
      "metadata": {
        "colab": {
          "base_uri": "https://localhost:8080/"
        },
        "id": "dv4LovbaGhbu",
        "outputId": "183699ea-5107-4b56-daa1-08becc42b85e"
      },
      "execution_count": null,
      "outputs": [
        {
          "output_type": "execute_result",
          "data": {
            "text/plain": [
              "57882.67742064533"
            ]
          },
          "metadata": {},
          "execution_count": 53
        }
      ]
    },
    {
      "cell_type": "code",
      "source": [
        "import matplotlib.pyplot as plt"
      ],
      "metadata": {
        "id": "83-wqEl6HwZA"
      },
      "execution_count": 1,
      "outputs": []
    },
    {
      "cell_type": "code",
      "source": [
        "perp_in = np.asarray([19806, 18047, 17246, 16682, 16155])\n",
        "perp_out = np.asarray([42154, 39061, 37662, 36767, 35816])\n",
        "X = np.asarray([2,4,6,8,10])"
      ],
      "metadata": {
        "id": "FdekrMa90f2H"
      },
      "execution_count": 5,
      "outputs": []
    },
    {
      "cell_type": "code",
      "source": [
        "# Plotting both the curves simultaneously\n",
        "plt.plot(X, perp_in, color='r', label='Perplexity (in-sample', marker ='.')\n",
        "plt.plot(X, perp_out, color='g', label='Perplexity (out-of-sample', marker ='.')\n",
        "  \n",
        "# Naming the x-axis, y-axis and the whole graph\n",
        "plt.xlabel(\"Epochs\")\n",
        "plt.ylabel(\"Perplexity\")\n",
        "plt.title(\"Perplexity over iterations\")\n",
        "  \n",
        "# Adding legend, which helps us recognize the curve according to it's color\n",
        "plt.legend()\n",
        "  \n",
        "# To load the display window\n",
        "plt.show()"
      ],
      "metadata": {
        "colab": {
          "base_uri": "https://localhost:8080/",
          "height": 295
        },
        "id": "FnuFinRt6oY2",
        "outputId": "4f92ea1c-2380-48b7-c34a-24987da95923"
      },
      "execution_count": 11,
      "outputs": [
        {
          "output_type": "display_data",
          "data": {
            "text/plain": [
              "<Figure size 432x288 with 1 Axes>"
            ],
            "image/png": "[encoded data removed]"
          },
          "metadata": {
            "needs_background": "light"
          }
        }
      ]
    },
    {
      "cell_type": "code",
      "source": [],
      "metadata": {
        "id": "0aQ8l3Ol7EAz"
      },
      "execution_count": null,
      "outputs": []
    }
  ]
}